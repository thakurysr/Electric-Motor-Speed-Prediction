{
 "cells": [
  {
   "cell_type": "markdown",
   "id": "dcfa6d17",
   "metadata": {},
   "source": [
    "# Creating and Saving the model"
   ]
  },
  {
   "cell_type": "code",
   "execution_count": 6,
   "id": "e8c2868b",
   "metadata": {
    "ExecuteTime": {
     "end_time": "2023-07-17T14:53:02.480725Z",
     "start_time": "2023-07-17T14:52:58.416226Z"
    }
   },
   "outputs": [],
   "source": [
    "import pandas as pd\n",
    "from sklearn.tree import DecisionTreeRegressor\n",
    "from sklearn.ensemble import AdaBoostRegressor\n",
    "from sklearn.ensemble import RandomForestRegressor, BaggingRegressor, GradientBoostingRegressor, StackingRegressor\n",
    "from sklearn.neighbors import KNeighborsRegressor\n",
    "import statsmodels.formula.api as smf\n",
    "from pickle import dump\n",
    "from pickle import load\n",
    "import warnings\n",
    "warnings.filterwarnings('ignore')"
   ]
  },
  {
   "cell_type": "code",
   "execution_count": 7,
   "id": "3d7acb18",
   "metadata": {
    "ExecuteTime": {
     "end_time": "2023-07-17T14:59:14.807121Z",
     "start_time": "2023-07-17T14:59:13.992947Z"
    }
   },
   "outputs": [
    {
     "data": {
      "text/html": [
       "<div>\n",
       "<style scoped>\n",
       "    .dataframe tbody tr th:only-of-type {\n",
       "        vertical-align: middle;\n",
       "    }\n",
       "\n",
       "    .dataframe tbody tr th {\n",
       "        vertical-align: top;\n",
       "    }\n",
       "\n",
       "    .dataframe thead th {\n",
       "        text-align: right;\n",
       "    }\n",
       "</style>\n",
       "<table border=\"1\" class=\"dataframe\">\n",
       "  <thead>\n",
       "    <tr style=\"text-align: right;\">\n",
       "      <th></th>\n",
       "      <th>u_q</th>\n",
       "      <th>u_d</th>\n",
       "      <th>i_d</th>\n",
       "      <th>pm</th>\n",
       "      <th>motor_speed</th>\n",
       "    </tr>\n",
       "  </thead>\n",
       "  <tbody>\n",
       "    <tr>\n",
       "      <th>0</th>\n",
       "      <td>-1.297858</td>\n",
       "      <td>0.327935</td>\n",
       "      <td>1.029572</td>\n",
       "      <td>-2.522071</td>\n",
       "      <td>-1.222428</td>\n",
       "    </tr>\n",
       "    <tr>\n",
       "      <th>1</th>\n",
       "      <td>-1.297686</td>\n",
       "      <td>0.329665</td>\n",
       "      <td>1.029509</td>\n",
       "      <td>-2.522418</td>\n",
       "      <td>-1.222429</td>\n",
       "    </tr>\n",
       "    <tr>\n",
       "      <th>2</th>\n",
       "      <td>-1.301822</td>\n",
       "      <td>0.332771</td>\n",
       "      <td>1.029448</td>\n",
       "      <td>-2.522673</td>\n",
       "      <td>-1.222428</td>\n",
       "    </tr>\n",
       "    <tr>\n",
       "      <th>3</th>\n",
       "      <td>-1.301852</td>\n",
       "      <td>0.333700</td>\n",
       "      <td>1.032845</td>\n",
       "      <td>-2.521639</td>\n",
       "      <td>-1.222430</td>\n",
       "    </tr>\n",
       "    <tr>\n",
       "      <th>4</th>\n",
       "      <td>-1.303118</td>\n",
       "      <td>0.335206</td>\n",
       "      <td>1.031807</td>\n",
       "      <td>-2.521900</td>\n",
       "      <td>-1.222429</td>\n",
       "    </tr>\n",
       "    <tr>\n",
       "      <th>...</th>\n",
       "      <td>...</td>\n",
       "      <td>...</td>\n",
       "      <td>...</td>\n",
       "      <td>...</td>\n",
       "      <td>...</td>\n",
       "    </tr>\n",
       "    <tr>\n",
       "      <th>814991</th>\n",
       "      <td>-1.246114</td>\n",
       "      <td>0.331475</td>\n",
       "      <td>1.029142</td>\n",
       "      <td>0.429853</td>\n",
       "      <td>-1.222428</td>\n",
       "    </tr>\n",
       "    <tr>\n",
       "      <th>814992</th>\n",
       "      <td>-1.250655</td>\n",
       "      <td>0.331701</td>\n",
       "      <td>1.029148</td>\n",
       "      <td>0.429751</td>\n",
       "      <td>-1.222437</td>\n",
       "    </tr>\n",
       "    <tr>\n",
       "      <th>814993</th>\n",
       "      <td>-1.246852</td>\n",
       "      <td>0.330946</td>\n",
       "      <td>1.029191</td>\n",
       "      <td>0.429439</td>\n",
       "      <td>-1.222430</td>\n",
       "    </tr>\n",
       "    <tr>\n",
       "      <th>814994</th>\n",
       "      <td>-1.249505</td>\n",
       "      <td>0.330987</td>\n",
       "      <td>1.029147</td>\n",
       "      <td>0.429558</td>\n",
       "      <td>-1.222432</td>\n",
       "    </tr>\n",
       "    <tr>\n",
       "      <th>814995</th>\n",
       "      <td>-1.246590</td>\n",
       "      <td>0.330830</td>\n",
       "      <td>1.029141</td>\n",
       "      <td>0.429166</td>\n",
       "      <td>-1.222431</td>\n",
       "    </tr>\n",
       "  </tbody>\n",
       "</table>\n",
       "<p>814996 rows × 5 columns</p>\n",
       "</div>"
      ],
      "text/plain": [
       "             u_q       u_d       i_d        pm  motor_speed\n",
       "0      -1.297858  0.327935  1.029572 -2.522071    -1.222428\n",
       "1      -1.297686  0.329665  1.029509 -2.522418    -1.222429\n",
       "2      -1.301822  0.332771  1.029448 -2.522673    -1.222428\n",
       "3      -1.301852  0.333700  1.032845 -2.521639    -1.222430\n",
       "4      -1.303118  0.335206  1.031807 -2.521900    -1.222429\n",
       "...          ...       ...       ...       ...          ...\n",
       "814991 -1.246114  0.331475  1.029142  0.429853    -1.222428\n",
       "814992 -1.250655  0.331701  1.029148  0.429751    -1.222437\n",
       "814993 -1.246852  0.330946  1.029191  0.429439    -1.222430\n",
       "814994 -1.249505  0.330987  1.029147  0.429558    -1.222432\n",
       "814995 -1.246590  0.330830  1.029141  0.429166    -1.222431\n",
       "\n",
       "[814996 rows x 5 columns]"
      ]
     },
     "execution_count": 7,
     "metadata": {},
     "output_type": "execute_result"
    }
   ],
   "source": [
    "data = pd.read_csv('VIF.csv')\n",
    "data"
   ]
  },
  {
   "cell_type": "code",
   "execution_count": 8,
   "id": "45654c10",
   "metadata": {
    "ExecuteTime": {
     "end_time": "2023-07-17T14:59:17.490354Z",
     "start_time": "2023-07-17T14:59:17.413561Z"
    }
   },
   "outputs": [],
   "source": [
    "x = data[['u_d', 'u_q', 'i_d', 'pm']]\n",
    "y = data[['motor_speed']]"
   ]
  },
  {
   "cell_type": "markdown",
   "id": "c598276d",
   "metadata": {},
   "source": [
    "## Saving AdaBoost Model"
   ]
  },
  {
   "cell_type": "code",
   "execution_count": 10,
   "id": "36d46164",
   "metadata": {
    "ExecuteTime": {
     "end_time": "2023-07-14T09:24:13.851744Z",
     "start_time": "2023-07-14T09:16:11.817771Z"
    }
   },
   "outputs": [
    {
     "data": {
      "text/plain": [
       "AdaBoostRegressor(base_estimator=DecisionTreeRegressor(max_depth=30))"
      ]
     },
     "execution_count": 10,
     "metadata": {},
     "output_type": "execute_result"
    }
   ],
   "source": [
    "ada = AdaBoostRegressor(base_estimator=DecisionTreeRegressor(max_depth=30))\n",
    "ada.fit(x, y)"
   ]
  },
  {
   "cell_type": "code",
   "execution_count": 11,
   "id": "c816826b",
   "metadata": {
    "ExecuteTime": {
     "end_time": "2023-07-14T09:25:41.688520Z",
     "start_time": "2023-07-14T09:25:30.205891Z"
    }
   },
   "outputs": [
    {
     "name": "stdout",
     "output_type": "stream",
     "text": [
      "0.9999999594065477\n",
      "4.5320717808533154e-08\n"
     ]
    }
   ],
   "source": [
    "from sklearn.metrics import r2_score, mean_squared_error\n",
    "y_pred = ada.predict(x)\n",
    "print(r2_score(y, y_pred))\n",
    "print(mean_squared_error(y, y_pred))"
   ]
  },
  {
   "cell_type": "code",
   "execution_count": 12,
   "id": "0648d895",
   "metadata": {
    "ExecuteTime": {
     "end_time": "2023-07-14T09:26:38.837059Z",
     "start_time": "2023-07-14T09:26:33.990679Z"
    }
   },
   "outputs": [],
   "source": [
    "dump(ada,open('AdaBoost_model.sav', 'wb'))"
   ]
  },
  {
   "cell_type": "code",
   "execution_count": 13,
   "id": "3005b77f",
   "metadata": {
    "ExecuteTime": {
     "end_time": "2023-07-14T09:27:27.605186Z",
     "start_time": "2023-07-14T09:27:14.696711Z"
    }
   },
   "outputs": [
    {
     "name": "stdout",
     "output_type": "stream",
     "text": [
      "0.9999999594065477\n"
     ]
    }
   ],
   "source": [
    "loaded_model=load(open('AdaBoost_model.sav' ,'rb'))\n",
    "result = loaded_model.score(x, y)\n",
    "print(result)"
   ]
  },
  {
   "cell_type": "markdown",
   "id": "0aea1ce7",
   "metadata": {},
   "source": [
    "## Saving Random Forest Model"
   ]
  },
  {
   "cell_type": "code",
   "execution_count": 14,
   "id": "81bcf378",
   "metadata": {
    "ExecuteTime": {
     "end_time": "2023-07-17T15:01:02.305353Z",
     "start_time": "2023-07-17T14:59:27.273787Z"
    }
   },
   "outputs": [
    {
     "data": {
      "text/plain": [
       "RandomForestRegressor(max_depth=30, n_estimators=10)"
      ]
     },
     "execution_count": 14,
     "metadata": {},
     "output_type": "execute_result"
    }
   ],
   "source": [
    "from sklearn.ensemble import RandomForestRegressor\n",
    "rnd_10 = RandomForestRegressor(n_estimators=10, max_depth=30)\n",
    "rnd_10.fit(x, y)"
   ]
  },
  {
   "cell_type": "code",
   "execution_count": 15,
   "id": "10006e07",
   "metadata": {
    "ExecuteTime": {
     "end_time": "2023-07-17T15:01:18.241450Z",
     "start_time": "2023-07-17T15:01:16.933196Z"
    }
   },
   "outputs": [],
   "source": [
    "dump(rnd_10,open('Random_Forest.sav', 'wb'))"
   ]
  },
  {
   "cell_type": "code",
   "execution_count": 16,
   "id": "0431d5c6",
   "metadata": {
    "ExecuteTime": {
     "end_time": "2023-07-17T15:01:23.901945Z",
     "start_time": "2023-07-17T15:01:21.421028Z"
    }
   },
   "outputs": [
    {
     "name": "stdout",
     "output_type": "stream",
     "text": [
      "0.9998057791626292\n"
     ]
    }
   ],
   "source": [
    "loaded_model=load(open('Random_Forest.sav' ,'rb'))\n",
    "result = loaded_model.score(x, y)\n",
    "print(result)"
   ]
  },
  {
   "cell_type": "markdown",
   "id": "df151760",
   "metadata": {},
   "source": [
    "## Saving Decision Tree Model"
   ]
  },
  {
   "cell_type": "code",
   "execution_count": 17,
   "id": "180fe562",
   "metadata": {
    "ExecuteTime": {
     "end_time": "2023-07-17T15:03:08.445889Z",
     "start_time": "2023-07-17T15:02:58.694191Z"
    }
   },
   "outputs": [
    {
     "data": {
      "text/plain": [
       "DecisionTreeRegressor(max_depth=30)"
      ]
     },
     "execution_count": 17,
     "metadata": {},
     "output_type": "execute_result"
    }
   ],
   "source": [
    "dct = DecisionTreeRegressor(max_depth=30)\n",
    "dct.fit(x, y)"
   ]
  },
  {
   "cell_type": "code",
   "execution_count": 18,
   "id": "b12f37b7",
   "metadata": {
    "ExecuteTime": {
     "end_time": "2023-07-17T15:03:46.054067Z",
     "start_time": "2023-07-17T15:03:45.780663Z"
    }
   },
   "outputs": [],
   "source": [
    "dump(dct,open('Decision_Tree.sav', 'wb'))"
   ]
  },
  {
   "cell_type": "code",
   "execution_count": 19,
   "id": "3fd44d9a",
   "metadata": {
    "ExecuteTime": {
     "end_time": "2023-07-17T15:03:47.117526Z",
     "start_time": "2023-07-17T15:03:46.780991Z"
    }
   },
   "outputs": [
    {
     "name": "stdout",
     "output_type": "stream",
     "text": [
      "0.9999752618328039\n"
     ]
    }
   ],
   "source": [
    "loaded_model=load(open('Decision_Tree.sav' ,'rb'))\n",
    "result = loaded_model.score(x, y)\n",
    "print(result)"
   ]
  },
  {
   "cell_type": "markdown",
   "id": "e5e8d2f5",
   "metadata": {},
   "source": [
    "## Saving Bagging Model"
   ]
  },
  {
   "cell_type": "code",
   "execution_count": 21,
   "id": "35ecaae5",
   "metadata": {
    "ExecuteTime": {
     "end_time": "2023-07-17T15:06:32.490867Z",
     "start_time": "2023-07-17T15:04:53.773854Z"
    }
   },
   "outputs": [
    {
     "data": {
      "text/plain": [
       "BaggingRegressor(base_estimator=DecisionTreeRegressor(max_depth=30))"
      ]
     },
     "execution_count": 21,
     "metadata": {},
     "output_type": "execute_result"
    }
   ],
   "source": [
    "bag = BaggingRegressor(base_estimator=DecisionTreeRegressor(max_depth = 30), n_estimators=10)\n",
    "bag.fit(x, y)"
   ]
  },
  {
   "cell_type": "code",
   "execution_count": 22,
   "id": "735e2bde",
   "metadata": {
    "ExecuteTime": {
     "end_time": "2023-07-17T15:06:53.830450Z",
     "start_time": "2023-07-17T15:06:52.867916Z"
    }
   },
   "outputs": [],
   "source": [
    "dump(bag,open('Bagging.sav', 'wb'))"
   ]
  },
  {
   "cell_type": "code",
   "execution_count": 23,
   "id": "a2a59ac1",
   "metadata": {
    "ExecuteTime": {
     "end_time": "2023-07-17T15:06:57.211293Z",
     "start_time": "2023-07-17T15:06:54.832191Z"
    }
   },
   "outputs": [
    {
     "name": "stdout",
     "output_type": "stream",
     "text": [
      "0.9998031435179286\n"
     ]
    }
   ],
   "source": [
    "loaded_model=load(open('Bagging.sav' ,'rb'))\n",
    "result = loaded_model.score(x, y)\n",
    "print(result)"
   ]
  },
  {
   "cell_type": "markdown",
   "id": "f34d4211",
   "metadata": {},
   "source": [
    "## Saving Gradient Boosting Model"
   ]
  },
  {
   "cell_type": "code",
   "execution_count": 24,
   "id": "c6d8bd3d",
   "metadata": {
    "ExecuteTime": {
     "end_time": "2023-07-17T15:11:31.245320Z",
     "start_time": "2023-07-17T15:07:48.706087Z"
    }
   },
   "outputs": [
    {
     "data": {
      "text/plain": [
       "GradientBoostingRegressor(criterion='squared_error', learning_rate=1)"
      ]
     },
     "execution_count": 24,
     "metadata": {},
     "output_type": "execute_result"
    }
   ],
   "source": [
    "grad = GradientBoostingRegressor(criterion='squared_error', learning_rate=1)\n",
    "grad.fit(x, y)"
   ]
  },
  {
   "cell_type": "code",
   "execution_count": 25,
   "id": "bb1aaa4c",
   "metadata": {
    "ExecuteTime": {
     "end_time": "2023-07-17T15:11:44.515385Z",
     "start_time": "2023-07-17T15:11:44.484379Z"
    }
   },
   "outputs": [],
   "source": [
    "dump(grad,open('Gradient_Boosting.sav', 'wb'))"
   ]
  },
  {
   "cell_type": "code",
   "execution_count": 26,
   "id": "73f8b409",
   "metadata": {
    "ExecuteTime": {
     "end_time": "2023-07-17T15:11:46.326767Z",
     "start_time": "2023-07-17T15:11:45.584147Z"
    }
   },
   "outputs": [
    {
     "name": "stdout",
     "output_type": "stream",
     "text": [
      "0.9955228334308385\n"
     ]
    }
   ],
   "source": [
    "loaded_model=load(open('Gradient_Boosting.sav' ,'rb'))\n",
    "result = loaded_model.score(x, y)\n",
    "print(result)"
   ]
  },
  {
   "cell_type": "markdown",
   "id": "8d0ea985",
   "metadata": {},
   "source": [
    "## Saving Stacking Model"
   ]
  },
  {
   "cell_type": "code",
   "execution_count": 27,
   "id": "b9f9d9c4",
   "metadata": {
    "ExecuteTime": {
     "end_time": "2023-07-17T15:33:15.979923Z",
     "start_time": "2023-07-17T15:12:46.598086Z"
    }
   },
   "outputs": [
    {
     "data": {
      "text/plain": [
       "StackingRegressor(estimators=[('els', ElasticNet()),\n",
       "                              ('dct', DecisionTreeRegressor(max_depth=30)),\n",
       "                              ('grad',\n",
       "                               GradientBoostingRegressor(criterion='squared_error',\n",
       "                                                         learning_rate=1))])"
      ]
     },
     "execution_count": 27,
     "metadata": {},
     "output_type": "execute_result"
    }
   ],
   "source": [
    "from sklearn.linear_model import ElasticNet\n",
    "\n",
    "estimators = [('els', ElasticNet()), ('dct', DecisionTreeRegressor(max_depth=30)), ('grad', GradientBoostingRegressor(criterion='squared_error', learning_rate=1))]\n",
    "stack = StackingRegressor(estimators=estimators)\n",
    "stack.fit(x, y)"
   ]
  },
  {
   "cell_type": "code",
   "execution_count": 28,
   "id": "7209382d",
   "metadata": {
    "ExecuteTime": {
     "end_time": "2023-07-17T15:34:37.584131Z",
     "start_time": "2023-07-17T15:34:37.226772Z"
    }
   },
   "outputs": [],
   "source": [
    "dump(stack,open('Stacking.sav', 'wb'))"
   ]
  },
  {
   "cell_type": "code",
   "execution_count": 29,
   "id": "a6cf87a7",
   "metadata": {
    "ExecuteTime": {
     "end_time": "2023-07-17T15:34:39.347739Z",
     "start_time": "2023-07-17T15:34:38.350834Z"
    }
   },
   "outputs": [
    {
     "name": "stdout",
     "output_type": "stream",
     "text": [
      "0.9982905658976384\n"
     ]
    }
   ],
   "source": [
    "loaded_model=load(open('Stacking.sav' ,'rb'))\n",
    "result = loaded_model.score(x, y)\n",
    "print(result)"
   ]
  },
  {
   "cell_type": "markdown",
   "id": "b981486e",
   "metadata": {},
   "source": [
    "## Saving KNN Model"
   ]
  },
  {
   "cell_type": "code",
   "execution_count": 30,
   "id": "3b9f097e",
   "metadata": {
    "ExecuteTime": {
     "end_time": "2023-07-17T15:35:57.681760Z",
     "start_time": "2023-07-17T15:35:56.230770Z"
    }
   },
   "outputs": [
    {
     "data": {
      "text/plain": [
       "KNeighborsRegressor()"
      ]
     },
     "execution_count": 30,
     "metadata": {},
     "output_type": "execute_result"
    }
   ],
   "source": [
    "knn = KNeighborsRegressor()\n",
    "knn.fit(x, y)"
   ]
  },
  {
   "cell_type": "code",
   "execution_count": 31,
   "id": "0cd18787",
   "metadata": {
    "ExecuteTime": {
     "end_time": "2023-07-17T15:35:59.916629Z",
     "start_time": "2023-07-17T15:35:59.822782Z"
    }
   },
   "outputs": [],
   "source": [
    "dump(knn,open('KNN.sav', 'wb'))"
   ]
  },
  {
   "cell_type": "code",
   "execution_count": 32,
   "id": "f14d54fa",
   "metadata": {
    "ExecuteTime": {
     "end_time": "2023-07-17T16:34:35.166752Z",
     "start_time": "2023-07-17T16:34:28.943168Z"
    }
   },
   "outputs": [
    {
     "name": "stdout",
     "output_type": "stream",
     "text": [
      "0.9991958802788266\n"
     ]
    }
   ],
   "source": [
    "loaded_model=load(open('KNN.sav' ,'rb'))\n",
    "result = loaded_model.score(x, y)\n",
    "print(result)"
   ]
  },
  {
   "cell_type": "markdown",
   "id": "000e391a",
   "metadata": {},
   "source": [
    "## Saving Cubic Model"
   ]
  },
  {
   "cell_type": "code",
   "execution_count": 33,
   "id": "c6598586",
   "metadata": {
    "ExecuteTime": {
     "end_time": "2023-07-17T15:37:12.485070Z",
     "start_time": "2023-07-17T15:37:12.422240Z"
    }
   },
   "outputs": [
    {
     "data": {
      "text/html": [
       "<div>\n",
       "<style scoped>\n",
       "    .dataframe tbody tr th:only-of-type {\n",
       "        vertical-align: middle;\n",
       "    }\n",
       "\n",
       "    .dataframe tbody tr th {\n",
       "        vertical-align: top;\n",
       "    }\n",
       "\n",
       "    .dataframe thead th {\n",
       "        text-align: right;\n",
       "    }\n",
       "</style>\n",
       "<table border=\"1\" class=\"dataframe\">\n",
       "  <thead>\n",
       "    <tr style=\"text-align: right;\">\n",
       "      <th></th>\n",
       "      <th>u_q</th>\n",
       "      <th>u_d</th>\n",
       "      <th>i_d</th>\n",
       "      <th>pm</th>\n",
       "      <th>motor_speed</th>\n",
       "      <th>i_d_squared</th>\n",
       "      <th>u_q_squared</th>\n",
       "      <th>i_d_cube</th>\n",
       "      <th>u_q_cube</th>\n",
       "    </tr>\n",
       "  </thead>\n",
       "  <tbody>\n",
       "    <tr>\n",
       "      <th>0</th>\n",
       "      <td>-1.297858</td>\n",
       "      <td>0.327935</td>\n",
       "      <td>1.029572</td>\n",
       "      <td>-2.522071</td>\n",
       "      <td>-1.222428</td>\n",
       "      <td>1.060019</td>\n",
       "      <td>1.684434</td>\n",
       "      <td>1.091367</td>\n",
       "      <td>-2.186155</td>\n",
       "    </tr>\n",
       "    <tr>\n",
       "      <th>1</th>\n",
       "      <td>-1.297686</td>\n",
       "      <td>0.329665</td>\n",
       "      <td>1.029509</td>\n",
       "      <td>-2.522418</td>\n",
       "      <td>-1.222429</td>\n",
       "      <td>1.059889</td>\n",
       "      <td>1.683990</td>\n",
       "      <td>1.091165</td>\n",
       "      <td>-2.185291</td>\n",
       "    </tr>\n",
       "    <tr>\n",
       "      <th>2</th>\n",
       "      <td>-1.301822</td>\n",
       "      <td>0.332771</td>\n",
       "      <td>1.029448</td>\n",
       "      <td>-2.522673</td>\n",
       "      <td>-1.222428</td>\n",
       "      <td>1.059763</td>\n",
       "      <td>1.694740</td>\n",
       "      <td>1.090970</td>\n",
       "      <td>-2.206249</td>\n",
       "    </tr>\n",
       "    <tr>\n",
       "      <th>3</th>\n",
       "      <td>-1.301852</td>\n",
       "      <td>0.333700</td>\n",
       "      <td>1.032845</td>\n",
       "      <td>-2.521639</td>\n",
       "      <td>-1.222430</td>\n",
       "      <td>1.066769</td>\n",
       "      <td>1.694819</td>\n",
       "      <td>1.101806</td>\n",
       "      <td>-2.206403</td>\n",
       "    </tr>\n",
       "    <tr>\n",
       "      <th>4</th>\n",
       "      <td>-1.303118</td>\n",
       "      <td>0.335206</td>\n",
       "      <td>1.031807</td>\n",
       "      <td>-2.521900</td>\n",
       "      <td>-1.222429</td>\n",
       "      <td>1.064626</td>\n",
       "      <td>1.698117</td>\n",
       "      <td>1.098489</td>\n",
       "      <td>-2.212846</td>\n",
       "    </tr>\n",
       "    <tr>\n",
       "      <th>...</th>\n",
       "      <td>...</td>\n",
       "      <td>...</td>\n",
       "      <td>...</td>\n",
       "      <td>...</td>\n",
       "      <td>...</td>\n",
       "      <td>...</td>\n",
       "      <td>...</td>\n",
       "      <td>...</td>\n",
       "      <td>...</td>\n",
       "    </tr>\n",
       "    <tr>\n",
       "      <th>814991</th>\n",
       "      <td>-1.246114</td>\n",
       "      <td>0.331475</td>\n",
       "      <td>1.029142</td>\n",
       "      <td>0.429853</td>\n",
       "      <td>-1.222428</td>\n",
       "      <td>1.059133</td>\n",
       "      <td>1.552800</td>\n",
       "      <td>1.089999</td>\n",
       "      <td>-1.934966</td>\n",
       "    </tr>\n",
       "    <tr>\n",
       "      <th>814992</th>\n",
       "      <td>-1.250655</td>\n",
       "      <td>0.331701</td>\n",
       "      <td>1.029148</td>\n",
       "      <td>0.429751</td>\n",
       "      <td>-1.222437</td>\n",
       "      <td>1.059146</td>\n",
       "      <td>1.564137</td>\n",
       "      <td>1.090018</td>\n",
       "      <td>-1.956196</td>\n",
       "    </tr>\n",
       "    <tr>\n",
       "      <th>814993</th>\n",
       "      <td>-1.246852</td>\n",
       "      <td>0.330946</td>\n",
       "      <td>1.029191</td>\n",
       "      <td>0.429439</td>\n",
       "      <td>-1.222430</td>\n",
       "      <td>1.059233</td>\n",
       "      <td>1.554640</td>\n",
       "      <td>1.090153</td>\n",
       "      <td>-1.938405</td>\n",
       "    </tr>\n",
       "    <tr>\n",
       "      <th>814994</th>\n",
       "      <td>-1.249505</td>\n",
       "      <td>0.330987</td>\n",
       "      <td>1.029147</td>\n",
       "      <td>0.429558</td>\n",
       "      <td>-1.222432</td>\n",
       "      <td>1.059143</td>\n",
       "      <td>1.561262</td>\n",
       "      <td>1.090014</td>\n",
       "      <td>-1.950805</td>\n",
       "    </tr>\n",
       "    <tr>\n",
       "      <th>814995</th>\n",
       "      <td>-1.246590</td>\n",
       "      <td>0.330830</td>\n",
       "      <td>1.029141</td>\n",
       "      <td>0.429166</td>\n",
       "      <td>-1.222431</td>\n",
       "      <td>1.059131</td>\n",
       "      <td>1.553988</td>\n",
       "      <td>1.089995</td>\n",
       "      <td>-1.937187</td>\n",
       "    </tr>\n",
       "  </tbody>\n",
       "</table>\n",
       "<p>814996 rows × 9 columns</p>\n",
       "</div>"
      ],
      "text/plain": [
       "             u_q       u_d       i_d        pm  motor_speed  i_d_squared  \\\n",
       "0      -1.297858  0.327935  1.029572 -2.522071    -1.222428     1.060019   \n",
       "1      -1.297686  0.329665  1.029509 -2.522418    -1.222429     1.059889   \n",
       "2      -1.301822  0.332771  1.029448 -2.522673    -1.222428     1.059763   \n",
       "3      -1.301852  0.333700  1.032845 -2.521639    -1.222430     1.066769   \n",
       "4      -1.303118  0.335206  1.031807 -2.521900    -1.222429     1.064626   \n",
       "...          ...       ...       ...       ...          ...          ...   \n",
       "814991 -1.246114  0.331475  1.029142  0.429853    -1.222428     1.059133   \n",
       "814992 -1.250655  0.331701  1.029148  0.429751    -1.222437     1.059146   \n",
       "814993 -1.246852  0.330946  1.029191  0.429439    -1.222430     1.059233   \n",
       "814994 -1.249505  0.330987  1.029147  0.429558    -1.222432     1.059143   \n",
       "814995 -1.246590  0.330830  1.029141  0.429166    -1.222431     1.059131   \n",
       "\n",
       "        u_q_squared  i_d_cube  u_q_cube  \n",
       "0          1.684434  1.091367 -2.186155  \n",
       "1          1.683990  1.091165 -2.185291  \n",
       "2          1.694740  1.090970 -2.206249  \n",
       "3          1.694819  1.101806 -2.206403  \n",
       "4          1.698117  1.098489 -2.212846  \n",
       "...             ...       ...       ...  \n",
       "814991     1.552800  1.089999 -1.934966  \n",
       "814992     1.564137  1.090018 -1.956196  \n",
       "814993     1.554640  1.090153 -1.938405  \n",
       "814994     1.561262  1.090014 -1.950805  \n",
       "814995     1.553988  1.089995 -1.937187  \n",
       "\n",
       "[814996 rows x 9 columns]"
      ]
     },
     "execution_count": 33,
     "metadata": {},
     "output_type": "execute_result"
    }
   ],
   "source": [
    "data['i_d_squared'] = data['i_d'] * data['i_d']\n",
    "data['u_q_squared'] = data['u_q'] * data['u_q']\n",
    "data['i_d_cube'] = data['i_d'] * data['i_d'] * data['i_d']\n",
    "data['u_q_cube'] = data['u_q'] * data['u_q'] * data['u_q']\n",
    "data"
   ]
  },
  {
   "cell_type": "code",
   "execution_count": 34,
   "id": "356c561f",
   "metadata": {
    "ExecuteTime": {
     "end_time": "2023-07-17T15:37:49.344815Z",
     "start_time": "2023-07-17T15:37:48.427972Z"
    }
   },
   "outputs": [],
   "source": [
    "model_cube = smf.ols('motor_speed~u_d+u_q+u_q_squared+i_d+i_d_squared+i_d_cube+u_q_cube+pm', data = data).fit()"
   ]
  },
  {
   "cell_type": "code",
   "execution_count": 35,
   "id": "dd55d60f",
   "metadata": {
    "ExecuteTime": {
     "end_time": "2023-07-17T15:37:53.458692Z",
     "start_time": "2023-07-17T15:37:52.342838Z"
    }
   },
   "outputs": [],
   "source": [
    "dump(model_cube,open('Cubic.sav', 'wb'))"
   ]
  },
  {
   "cell_type": "code",
   "execution_count": 36,
   "id": "e5606b90",
   "metadata": {
    "ExecuteTime": {
     "end_time": "2023-07-17T15:38:25.982798Z",
     "start_time": "2023-07-17T15:38:25.550372Z"
    }
   },
   "outputs": [
    {
     "name": "stdout",
     "output_type": "stream",
     "text": [
      "0.9683836769061805\n"
     ]
    }
   ],
   "source": [
    "loaded_model=load(open('Cubic.sav' ,'rb'))\n",
    "result = loaded_model.rsquared\n",
    "print(result)"
   ]
  },
  {
   "cell_type": "markdown",
   "id": "1d8db667",
   "metadata": {},
   "source": [
    "## Saving Neural Network Model"
   ]
  },
  {
   "cell_type": "code",
   "execution_count": 37,
   "id": "af139d64",
   "metadata": {
    "ExecuteTime": {
     "end_time": "2023-07-17T15:41:57.077200Z",
     "start_time": "2023-07-17T15:40:05.379735Z"
    }
   },
   "outputs": [
    {
     "data": {
      "text/plain": [
       "<keras.callbacks.History at 0x1a050e28160>"
      ]
     },
     "execution_count": 37,
     "metadata": {},
     "output_type": "execute_result"
    }
   ],
   "source": [
    "from sklearn.model_selection import GridSearchCV, KFold\n",
    "from keras.models import Sequential\n",
    "from keras.layers import Dense\n",
    "from keras.wrappers.scikit_learn import KerasRegressor\n",
    "from tensorflow.keras.optimizers import Adam\n",
    "from keras.layers import Dropout\n",
    "from sklearn.metrics import classification_report, accuracy_score, confusion_matrix, mean_squared_error, r2_score\n",
    "\n",
    "# Defining the model\n",
    "\n",
    "def create_model():\n",
    "    model = Sequential()\n",
    "    model.add(Dense(16,input_dim = 4,kernel_initializer = 'uniform',activation = 'relu'))\n",
    "    model.add(Dropout(0.0))\n",
    "    model.add(Dense(16,input_dim = 16,kernel_initializer = 'uniform',activation = 'relu'))\n",
    "    model.add(Dropout(0.0))\n",
    "    model.add(Dense(8,input_dim = 16,kernel_initializer = 'uniform',activation = 'elu'))\n",
    "    model.add(Dropout(0.0))\n",
    "    model.add(Dense(1,activation = 'linear'))\n",
    "    \n",
    "    adam = Adam(lr = 0.001) #sgd = SGD(lr=learning_rate, momentum=momentum, decay=decay_rate, nesterov=False)\n",
    "    model.compile(loss = 'mean_squared_error',optimizer = 'adam',metrics = ['MeanSquaredError'])\n",
    "    return model\n",
    "\n",
    "# Create the model\n",
    "\n",
    "ann = KerasRegressor(build_fn = create_model,verbose = 0,batch_size = 512,epochs = 20)\n",
    "\n",
    "# Fitting the model\n",
    "\n",
    "ann.fit(x, y)"
   ]
  },
  {
   "cell_type": "code",
   "execution_count": 38,
   "id": "a97005c2",
   "metadata": {
    "ExecuteTime": {
     "end_time": "2023-07-17T15:56:16.522165Z",
     "start_time": "2023-07-17T15:56:16.286824Z"
    }
   },
   "outputs": [],
   "source": [
    "ann.model.save('ANN.h5')"
   ]
  },
  {
   "cell_type": "code",
   "execution_count": 39,
   "id": "52138da8",
   "metadata": {
    "ExecuteTime": {
     "end_time": "2023-07-17T16:34:08.004801Z",
     "start_time": "2023-07-17T16:34:04.810941Z"
    }
   },
   "outputs": [
    {
     "ename": "PatsyError",
     "evalue": "predict requires that you use a DataFrame when predicting from a model\nthat was created using the formula api.\n\nThe original error message returned by patsy is:\nError evaluating factor: NameError: name 'u_q_squared' is not defined\n    motor_speed~u_d+u_q+u_q_squared+i_d+i_d_squared+i_d_cube+u_q_cube+pm\n                        ^^^^^^^^^^^",
     "output_type": "error",
     "traceback": [
      "\u001b[1;31m---------------------------------------------------------------------------\u001b[0m",
      "\u001b[1;31mNameError\u001b[0m                                 Traceback (most recent call last)",
      "\u001b[1;32m~\\anaconda3\\lib\\site-packages\\patsy\\compat.py\u001b[0m in \u001b[0;36mcall_and_wrap_exc\u001b[1;34m(msg, origin, f, *args, **kwargs)\u001b[0m\n\u001b[0;32m     35\u001b[0m     \u001b[1;32mtry\u001b[0m\u001b[1;33m:\u001b[0m\u001b[1;33m\u001b[0m\u001b[1;33m\u001b[0m\u001b[0m\n\u001b[1;32m---> 36\u001b[1;33m         \u001b[1;32mreturn\u001b[0m \u001b[0mf\u001b[0m\u001b[1;33m(\u001b[0m\u001b[1;33m*\u001b[0m\u001b[0margs\u001b[0m\u001b[1;33m,\u001b[0m \u001b[1;33m**\u001b[0m\u001b[0mkwargs\u001b[0m\u001b[1;33m)\u001b[0m\u001b[1;33m\u001b[0m\u001b[1;33m\u001b[0m\u001b[0m\n\u001b[0m\u001b[0;32m     37\u001b[0m     \u001b[1;32mexcept\u001b[0m \u001b[0mException\u001b[0m \u001b[1;32mas\u001b[0m \u001b[0me\u001b[0m\u001b[1;33m:\u001b[0m\u001b[1;33m\u001b[0m\u001b[1;33m\u001b[0m\u001b[0m\n",
      "\u001b[1;32m~\\anaconda3\\lib\\site-packages\\patsy\\eval.py\u001b[0m in \u001b[0;36meval\u001b[1;34m(self, expr, source_name, inner_namespace)\u001b[0m\n\u001b[0;32m    164\u001b[0m         \u001b[0mcode\u001b[0m \u001b[1;33m=\u001b[0m \u001b[0mcompile\u001b[0m\u001b[1;33m(\u001b[0m\u001b[0mexpr\u001b[0m\u001b[1;33m,\u001b[0m \u001b[0msource_name\u001b[0m\u001b[1;33m,\u001b[0m \u001b[1;34m\"eval\"\u001b[0m\u001b[1;33m,\u001b[0m \u001b[0mself\u001b[0m\u001b[1;33m.\u001b[0m\u001b[0mflags\u001b[0m\u001b[1;33m,\u001b[0m \u001b[1;32mFalse\u001b[0m\u001b[1;33m)\u001b[0m\u001b[1;33m\u001b[0m\u001b[1;33m\u001b[0m\u001b[0m\n\u001b[1;32m--> 165\u001b[1;33m         return eval(code, {}, VarLookupDict([inner_namespace]\n\u001b[0m\u001b[0;32m    166\u001b[0m                                             + self._namespaces))\n",
      "\u001b[1;32m<string>\u001b[0m in \u001b[0;36m<module>\u001b[1;34m\u001b[0m\n",
      "\u001b[1;31mNameError\u001b[0m: name 'u_q_squared' is not defined",
      "\nThe above exception was the direct cause of the following exception:\n",
      "\u001b[1;31mPatsyError\u001b[0m                                Traceback (most recent call last)",
      "\u001b[1;32m~\\anaconda3\\lib\\site-packages\\statsmodels\\base\\model.py\u001b[0m in \u001b[0;36mpredict\u001b[1;34m(self, exog, transform, *args, **kwargs)\u001b[0m\n\u001b[0;32m   1136\u001b[0m             \u001b[1;32mtry\u001b[0m\u001b[1;33m:\u001b[0m\u001b[1;33m\u001b[0m\u001b[1;33m\u001b[0m\u001b[0m\n\u001b[1;32m-> 1137\u001b[1;33m                 \u001b[0mexog\u001b[0m \u001b[1;33m=\u001b[0m \u001b[0mdmatrix\u001b[0m\u001b[1;33m(\u001b[0m\u001b[0mdesign_info\u001b[0m\u001b[1;33m,\u001b[0m \u001b[0mexog\u001b[0m\u001b[1;33m,\u001b[0m \u001b[0mreturn_type\u001b[0m\u001b[1;33m=\u001b[0m\u001b[1;34m\"dataframe\"\u001b[0m\u001b[1;33m)\u001b[0m\u001b[1;33m\u001b[0m\u001b[1;33m\u001b[0m\u001b[0m\n\u001b[0m\u001b[0;32m   1138\u001b[0m             \u001b[1;32mexcept\u001b[0m \u001b[0mException\u001b[0m \u001b[1;32mas\u001b[0m \u001b[0mexc\u001b[0m\u001b[1;33m:\u001b[0m\u001b[1;33m\u001b[0m\u001b[1;33m\u001b[0m\u001b[0m\n",
      "\u001b[1;32m~\\anaconda3\\lib\\site-packages\\patsy\\highlevel.py\u001b[0m in \u001b[0;36mdmatrix\u001b[1;34m(formula_like, data, eval_env, NA_action, return_type)\u001b[0m\n\u001b[0;32m    289\u001b[0m     \u001b[0meval_env\u001b[0m \u001b[1;33m=\u001b[0m \u001b[0mEvalEnvironment\u001b[0m\u001b[1;33m.\u001b[0m\u001b[0mcapture\u001b[0m\u001b[1;33m(\u001b[0m\u001b[0meval_env\u001b[0m\u001b[1;33m,\u001b[0m \u001b[0mreference\u001b[0m\u001b[1;33m=\u001b[0m\u001b[1;36m1\u001b[0m\u001b[1;33m)\u001b[0m\u001b[1;33m\u001b[0m\u001b[1;33m\u001b[0m\u001b[0m\n\u001b[1;32m--> 290\u001b[1;33m     (lhs, rhs) = _do_highlevel_design(formula_like, data, eval_env,\n\u001b[0m\u001b[0;32m    291\u001b[0m                                       NA_action, return_type)\n",
      "\u001b[1;32m~\\anaconda3\\lib\\site-packages\\patsy\\highlevel.py\u001b[0m in \u001b[0;36m_do_highlevel_design\u001b[1;34m(formula_like, data, eval_env, NA_action, return_type)\u001b[0m\n\u001b[0;32m    166\u001b[0m     \u001b[1;32mif\u001b[0m \u001b[0mdesign_infos\u001b[0m \u001b[1;32mis\u001b[0m \u001b[1;32mnot\u001b[0m \u001b[1;32mNone\u001b[0m\u001b[1;33m:\u001b[0m\u001b[1;33m\u001b[0m\u001b[1;33m\u001b[0m\u001b[0m\n\u001b[1;32m--> 167\u001b[1;33m         return build_design_matrices(design_infos, data,\n\u001b[0m\u001b[0;32m    168\u001b[0m                                      \u001b[0mNA_action\u001b[0m\u001b[1;33m=\u001b[0m\u001b[0mNA_action\u001b[0m\u001b[1;33m,\u001b[0m\u001b[1;33m\u001b[0m\u001b[1;33m\u001b[0m\u001b[0m\n",
      "\u001b[1;32m~\\anaconda3\\lib\\site-packages\\patsy\\build.py\u001b[0m in \u001b[0;36mbuild_design_matrices\u001b[1;34m(design_infos, data, NA_action, return_type, dtype)\u001b[0m\n\u001b[0;32m    887\u001b[0m             \u001b[1;32mif\u001b[0m \u001b[0mfactor_info\u001b[0m \u001b[1;32mnot\u001b[0m \u001b[1;32min\u001b[0m \u001b[0mfactor_info_to_values\u001b[0m\u001b[1;33m:\u001b[0m\u001b[1;33m\u001b[0m\u001b[1;33m\u001b[0m\u001b[0m\n\u001b[1;32m--> 888\u001b[1;33m                 \u001b[0mvalue\u001b[0m\u001b[1;33m,\u001b[0m \u001b[0mis_NA\u001b[0m \u001b[1;33m=\u001b[0m \u001b[0m_eval_factor\u001b[0m\u001b[1;33m(\u001b[0m\u001b[0mfactor_info\u001b[0m\u001b[1;33m,\u001b[0m \u001b[0mdata\u001b[0m\u001b[1;33m,\u001b[0m \u001b[0mNA_action\u001b[0m\u001b[1;33m)\u001b[0m\u001b[1;33m\u001b[0m\u001b[1;33m\u001b[0m\u001b[0m\n\u001b[0m\u001b[0;32m    889\u001b[0m                 \u001b[0mfactor_info_to_isNAs\u001b[0m\u001b[1;33m[\u001b[0m\u001b[0mfactor_info\u001b[0m\u001b[1;33m]\u001b[0m \u001b[1;33m=\u001b[0m \u001b[0mis_NA\u001b[0m\u001b[1;33m\u001b[0m\u001b[1;33m\u001b[0m\u001b[0m\n",
      "\u001b[1;32m~\\anaconda3\\lib\\site-packages\\patsy\\build.py\u001b[0m in \u001b[0;36m_eval_factor\u001b[1;34m(factor_info, data, NA_action)\u001b[0m\n\u001b[0;32m     62\u001b[0m     \u001b[0mfactor\u001b[0m \u001b[1;33m=\u001b[0m \u001b[0mfactor_info\u001b[0m\u001b[1;33m.\u001b[0m\u001b[0mfactor\u001b[0m\u001b[1;33m\u001b[0m\u001b[1;33m\u001b[0m\u001b[0m\n\u001b[1;32m---> 63\u001b[1;33m     \u001b[0mresult\u001b[0m \u001b[1;33m=\u001b[0m \u001b[0mfactor\u001b[0m\u001b[1;33m.\u001b[0m\u001b[0meval\u001b[0m\u001b[1;33m(\u001b[0m\u001b[0mfactor_info\u001b[0m\u001b[1;33m.\u001b[0m\u001b[0mstate\u001b[0m\u001b[1;33m,\u001b[0m \u001b[0mdata\u001b[0m\u001b[1;33m)\u001b[0m\u001b[1;33m\u001b[0m\u001b[1;33m\u001b[0m\u001b[0m\n\u001b[0m\u001b[0;32m     64\u001b[0m     \u001b[1;31m# Returns either a 2d ndarray, or a DataFrame, plus is_NA mask\u001b[0m\u001b[1;33m\u001b[0m\u001b[1;33m\u001b[0m\u001b[0m\n",
      "\u001b[1;32m~\\anaconda3\\lib\\site-packages\\patsy\\eval.py\u001b[0m in \u001b[0;36meval\u001b[1;34m(self, memorize_state, data)\u001b[0m\n\u001b[0;32m    563\u001b[0m     \u001b[1;32mdef\u001b[0m \u001b[0meval\u001b[0m\u001b[1;33m(\u001b[0m\u001b[0mself\u001b[0m\u001b[1;33m,\u001b[0m \u001b[0mmemorize_state\u001b[0m\u001b[1;33m,\u001b[0m \u001b[0mdata\u001b[0m\u001b[1;33m)\u001b[0m\u001b[1;33m:\u001b[0m\u001b[1;33m\u001b[0m\u001b[1;33m\u001b[0m\u001b[0m\n\u001b[1;32m--> 564\u001b[1;33m         return self._eval(memorize_state[\"eval_code\"],\n\u001b[0m\u001b[0;32m    565\u001b[0m                           \u001b[0mmemorize_state\u001b[0m\u001b[1;33m,\u001b[0m\u001b[1;33m\u001b[0m\u001b[1;33m\u001b[0m\u001b[0m\n",
      "\u001b[1;32m~\\anaconda3\\lib\\site-packages\\patsy\\eval.py\u001b[0m in \u001b[0;36m_eval\u001b[1;34m(self, code, memorize_state, data)\u001b[0m\n\u001b[0;32m    546\u001b[0m         \u001b[0minner_namespace\u001b[0m \u001b[1;33m=\u001b[0m \u001b[0mVarLookupDict\u001b[0m\u001b[1;33m(\u001b[0m\u001b[1;33m[\u001b[0m\u001b[0mdata\u001b[0m\u001b[1;33m,\u001b[0m \u001b[0mmemorize_state\u001b[0m\u001b[1;33m[\u001b[0m\u001b[1;34m\"transforms\"\u001b[0m\u001b[1;33m]\u001b[0m\u001b[1;33m]\u001b[0m\u001b[1;33m)\u001b[0m\u001b[1;33m\u001b[0m\u001b[1;33m\u001b[0m\u001b[0m\n\u001b[1;32m--> 547\u001b[1;33m         return call_and_wrap_exc(\"Error evaluating factor\",\n\u001b[0m\u001b[0;32m    548\u001b[0m                                  \u001b[0mself\u001b[0m\u001b[1;33m,\u001b[0m\u001b[1;33m\u001b[0m\u001b[1;33m\u001b[0m\u001b[0m\n",
      "\u001b[1;32m~\\anaconda3\\lib\\site-packages\\patsy\\compat.py\u001b[0m in \u001b[0;36mcall_and_wrap_exc\u001b[1;34m(msg, origin, f, *args, **kwargs)\u001b[0m\n\u001b[0;32m     42\u001b[0m             \u001b[1;31m# Use 'exec' to hide this syntax from the Python 2 parser:\u001b[0m\u001b[1;33m\u001b[0m\u001b[1;33m\u001b[0m\u001b[0m\n\u001b[1;32m---> 43\u001b[1;33m             \u001b[0mexec\u001b[0m\u001b[1;33m(\u001b[0m\u001b[1;34m\"raise new_exc from e\"\u001b[0m\u001b[1;33m)\u001b[0m\u001b[1;33m\u001b[0m\u001b[1;33m\u001b[0m\u001b[0m\n\u001b[0m\u001b[0;32m     44\u001b[0m         \u001b[1;32melse\u001b[0m\u001b[1;33m:\u001b[0m\u001b[1;33m\u001b[0m\u001b[1;33m\u001b[0m\u001b[0m\n",
      "\u001b[1;32m~\\anaconda3\\lib\\site-packages\\patsy\\compat.py\u001b[0m in \u001b[0;36m<module>\u001b[1;34m\u001b[0m\n",
      "\u001b[1;31mPatsyError\u001b[0m: Error evaluating factor: NameError: name 'u_q_squared' is not defined\n    motor_speed~u_d+u_q+u_q_squared+i_d+i_d_squared+i_d_cube+u_q_cube+pm\n                        ^^^^^^^^^^^",
      "\nDuring handling of the above exception, another exception occurred:\n",
      "\u001b[1;31mPatsyError\u001b[0m                                Traceback (most recent call last)",
      "\u001b[1;32m~\\AppData\\Local\\Temp\\ipykernel_11680\\72578712.py\u001b[0m in \u001b[0;36m<module>\u001b[1;34m\u001b[0m\n\u001b[0;32m      3\u001b[0m \u001b[1;31m#loaded_model = KerasRegressor(build_fn = create_model,verbose = 0,batch_size = 512,epochs = 20)\u001b[0m\u001b[1;33m\u001b[0m\u001b[1;33m\u001b[0m\u001b[0m\n\u001b[0;32m      4\u001b[0m \u001b[0mloaded_model\u001b[0m\u001b[1;33m.\u001b[0m\u001b[0mmodel\u001b[0m \u001b[1;33m=\u001b[0m \u001b[0mload_model\u001b[0m\u001b[1;33m(\u001b[0m\u001b[1;34m'ANN.h5'\u001b[0m\u001b[1;33m)\u001b[0m\u001b[1;33m\u001b[0m\u001b[1;33m\u001b[0m\u001b[0m\n\u001b[1;32m----> 5\u001b[1;33m \u001b[0mr2_score\u001b[0m\u001b[1;33m(\u001b[0m\u001b[0my\u001b[0m\u001b[1;33m,\u001b[0m \u001b[0mloaded_model\u001b[0m\u001b[1;33m.\u001b[0m\u001b[0mpredict\u001b[0m\u001b[1;33m(\u001b[0m\u001b[0mx\u001b[0m\u001b[1;33m)\u001b[0m\u001b[1;33m)\u001b[0m\u001b[1;33m\u001b[0m\u001b[1;33m\u001b[0m\u001b[0m\n\u001b[0m",
      "\u001b[1;32m~\\anaconda3\\lib\\site-packages\\statsmodels\\base\\model.py\u001b[0m in \u001b[0;36mpredict\u001b[1;34m(self, exog, transform, *args, **kwargs)\u001b[0m\n\u001b[0;32m   1142\u001b[0m                        \u001b[1;34m'\\n\\nThe original error message returned by patsy is:\\n'\u001b[0m\u001b[1;33m\u001b[0m\u001b[1;33m\u001b[0m\u001b[0m\n\u001b[0;32m   1143\u001b[0m                        '{0}'.format(str(str(exc))))\n\u001b[1;32m-> 1144\u001b[1;33m                 \u001b[1;32mraise\u001b[0m \u001b[0mexc\u001b[0m\u001b[1;33m.\u001b[0m\u001b[0m__class__\u001b[0m\u001b[1;33m(\u001b[0m\u001b[0mmsg\u001b[0m\u001b[1;33m)\u001b[0m\u001b[1;33m\u001b[0m\u001b[1;33m\u001b[0m\u001b[0m\n\u001b[0m\u001b[0;32m   1145\u001b[0m             \u001b[1;32mif\u001b[0m \u001b[0morig_exog_len\u001b[0m \u001b[1;33m>\u001b[0m \u001b[0mlen\u001b[0m\u001b[1;33m(\u001b[0m\u001b[0mexog\u001b[0m\u001b[1;33m)\u001b[0m \u001b[1;32mand\u001b[0m \u001b[1;32mnot\u001b[0m \u001b[0mis_dict\u001b[0m\u001b[1;33m:\u001b[0m\u001b[1;33m\u001b[0m\u001b[1;33m\u001b[0m\u001b[0m\n\u001b[0;32m   1146\u001b[0m                 \u001b[1;32mif\u001b[0m \u001b[0mexog_index\u001b[0m \u001b[1;32mis\u001b[0m \u001b[1;32mNone\u001b[0m\u001b[1;33m:\u001b[0m\u001b[1;33m\u001b[0m\u001b[1;33m\u001b[0m\u001b[0m\n",
      "\u001b[1;31mPatsyError\u001b[0m: predict requires that you use a DataFrame when predicting from a model\nthat was created using the formula api.\n\nThe original error message returned by patsy is:\nError evaluating factor: NameError: name 'u_q_squared' is not defined\n    motor_speed~u_d+u_q+u_q_squared+i_d+i_d_squared+i_d_cube+u_q_cube+pm\n                        ^^^^^^^^^^^"
     ]
    }
   ],
   "source": [
    "from keras.models import load_model\n",
    "from sklearn.metrics import r2_score\n",
    "#loaded_model = KerasRegressor(build_fn = create_model,verbose = 0,batch_size = 512,epochs = 20)\n",
    "loaded_model.model = load_model('ANN.h5')\n",
    "r2_score(y, loaded_model.predict(x))"
   ]
  },
  {
   "cell_type": "code",
   "execution_count": null,
   "id": "6f1c169e",
   "metadata": {},
   "outputs": [],
   "source": []
  }
 ],
 "metadata": {
  "kernelspec": {
   "display_name": "Python 3 (ipykernel)",
   "language": "python",
   "name": "python3"
  },
  "language_info": {
   "codemirror_mode": {
    "name": "ipython",
    "version": 3
   },
   "file_extension": ".py",
   "mimetype": "text/x-python",
   "name": "python",
   "nbconvert_exporter": "python",
   "pygments_lexer": "ipython3",
   "version": "3.9.13"
  },
  "varInspector": {
   "cols": {
    "lenName": 16,
    "lenType": 16,
    "lenVar": 40
   },
   "kernels_config": {
    "python": {
     "delete_cmd_postfix": "",
     "delete_cmd_prefix": "del ",
     "library": "var_list.py",
     "varRefreshCmd": "print(var_dic_list())"
    },
    "r": {
     "delete_cmd_postfix": ") ",
     "delete_cmd_prefix": "rm(",
     "library": "var_list.r",
     "varRefreshCmd": "cat(var_dic_list()) "
    }
   },
   "types_to_exclude": [
    "module",
    "function",
    "builtin_function_or_method",
    "instance",
    "_Feature"
   ],
   "window_display": false
  }
 },
 "nbformat": 4,
 "nbformat_minor": 5
}
